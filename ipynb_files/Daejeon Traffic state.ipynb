{
 "cells": [
  {
   "cell_type": "markdown",
   "metadata": {},
   "source": [
    "# Daejeon's Traffic jam state"
   ]
  },
  {
   "cell_type": "markdown",
   "metadata": {},
   "source": [
    "## How it all started"
   ]
  },
  {
   "cell_type": "markdown",
   "metadata": {},
   "source": [
    "<p style=\"font-size:13pt;\">\n",
    "    My hometown is Daejeon in South Korea.And I'm still living in this wonderful city.<br>\n",
    "    It's quiet and peaceful. Also Daejeon is a metropolitan city so it has almost everything that a city can provide.<br>\n",
    "    But like other big cities, it has some problems.... and one of them is \"<b>Traffic Proplem</b>\".<br>\n",
    "    Daejeon has a good road system, but it is not enough to hold the traffic when people go to or come from work.<br>\n",
    "    Usually, the traffic jam problem occurs at <b>7:00 AM to 9:00 AM</b> and <b>6:00 PM to 8:00 PM</b> on weekdays.<br>\n",
    "    So, I wanted to find out what is the traffic like at these timeline. But for a individual who doesn't have power to get all the traffic info, I didn't know what to do.<br>\n",
    "    Luckly, There is a real-time traffic API data which I can use to get the traffic data. Which you can get from here.\n",
    "</p>"
   ]
  },
  {
   "cell_type": "markdown",
   "metadata": {},
   "source": [
    "> http://openapi.its.go.kr:8080/portal/dev/dev3.do"
   ]
  },
  {
   "cell_type": "markdown",
   "metadata": {},
   "source": [
    "<p style=\"font-size:13pt;\">\n",
    "    Next, I needed a road shape data to use to project the road of Daejeon. But also needed to merge shape data with the traffic data from above.<br>\n",
    "    The real-time traffic API uses a link and a node index to show a specific road's average speed.<br>\n",
    "    And the index is numbered by the government, so there should be a shape data which has the same index like the API-data.<br>\n",
    "    With some search, I found the data in this url.\n",
    "</p>"
   ]
  },
  {
   "cell_type": "markdown",
   "metadata": {},
   "source": [
    "> http://nodelink.its.go.kr/data/data01.aspx"
   ]
  },
  {
   "cell_type": "markdown",
   "metadata": {},
   "source": [
    "<p style=\"font-size:13pt;\">\n",
    "    Now all I need is to set a rule whether the current link or node has a traffic jam problem.<br>\n",
    "    Before that, what is a link? and what is node?<br>\n",
    "    See the picture below\n",
    "</p>"
   ]
  },
  {
   "cell_type": "markdown",
   "metadata": {},
   "source": [
    "<img src='../img_folder/node and link.PNG' width=600 height=500>"
   ]
  },
  {
   "cell_type": "markdown",
   "metadata": {},
   "source": [
    "<p style=\"font-size:13pt;\">\n",
    "    So, you can the link is a \"<b>road</b>\" and the node is a \"<b>starting place</b>\" or a \"<b>ending place</b>\" of a road.<br>\n",
    "    And you can choose a starting place by the flow of the traffic.<br>\n",
    "    If the cars move left to right, then the starting node is the left, and the ending node is the right\n",
    "</p>"
   ]
  },
  {
   "cell_type": "markdown",
   "metadata": {},
   "source": [
    "<p style=\"font-size:13pt;\">\n",
    "    Now back to the rule, I'm not an expert in traffic. So, I needed a provided rule from someone we can trust. Like the police.<br>\n",
    "    I found a website which shows the real-time traffic status of the whole roads in South Korea.<br>\n",
    "    It classifies which road has a big traffic jam, or little traffic jam and doesn't have traffic jam by the type of road. The web site is here.\n",
    "</p>"
   ]
  },
  {
   "cell_type": "markdown",
   "metadata": {},
   "source": [
    "> https://www.utic.go.kr:449/map/map.do?menu=cctv"
   ]
  },
  {
   "cell_type": "markdown",
   "metadata": {},
   "source": [
    "<p style=\"font-size:13pt;\">\n",
    "    I know that this website is doing the same thing that I wanted to do.<br>\n",
    "    And it's doing better than I'm doing. (What can I say, the website is made by the Police Dept.)<br>\n",
    "    But, this website only shows the real-time status. Not the status that I wanted to know.<br>\n",
    "    So, I can say that it is different from what I am doing. right?<br><br>\n",
    "    <b>Now, back to work.</b><br>\n",
    "    Using these three websites I can collect the data that I wanted. After that It's all merging and clensing and last showing the result.<br>\n",
    "    And this is the flow of how I did it.\n",
    "</p>"
   ]
  },
  {
   "cell_type": "markdown",
   "metadata": {},
   "source": [
    "<img src='../img_folder/workflow.PNG' width=600 height=500>"
   ]
  },
  {
   "cell_type": "markdown",
   "metadata": {},
   "source": [
    "## The result"
   ]
  },
  {
   "cell_type": "markdown",
   "metadata": {},
   "source": [
    "<p style=\"font-size:13pt;\">\n",
    "    There is more that I want to speak of.<br>\n",
    "    Like how I gave the traffic jam value and how I made a rule how to determine if the link or the node is highly|slightly|not jammed.<br>\n",
    "    But, this is not a academic paper. So, let's get right into what I found out!\n",
    "</p>"
   ]
  },
  {
   "cell_type": "code",
   "execution_count": 1,
   "metadata": {},
   "outputs": [],
   "source": [
    "# running the code I have wrote previously\n",
    "%run ../ipynb_files/Make_Traffic_Map.ipynb"
   ]
  },
  {
   "cell_type": "code",
   "execution_count": 2,
   "metadata": {},
   "outputs": [],
   "source": [
    "result=Make_Traffic_Map('../made_datasets/')"
   ]
  },
  {
   "cell_type": "code",
   "execution_count": 3,
   "metadata": {},
   "outputs": [
    {
     "name": "stdout",
     "output_type": "stream",
     "text": [
      "saved morning data to map at ../html_files/morning.html\n",
      "saved evening data to map at ../html_files/evening.html\n"
     ]
    }
   ],
   "source": [
    "result.save_map('../html_files/')"
   ]
  },
  {
   "cell_type": "markdown",
   "metadata": {},
   "source": [
    "### Top jammed places"
   ]
  },
  {
   "cell_type": "markdown",
   "metadata": {},
   "source": [
    "<p style=\"font-size:13pt;\">\n",
    "    Let's find out the top 5 of each jammed road, road starting place, road ending place.\n",
    "    each code will show two tables with 5 rows.<br>the first table is the morning timeline (7 am to 9 am)<br>\n",
    "    the second table is the evening timeline (6 pm to 8 pm)\n",
    "</p>"
   ]
  },
  {
   "cell_type": "code",
   "execution_count": 4,
   "metadata": {},
   "outputs": [
    {
     "name": "stdout",
     "output_type": "stream",
     "text": [
      "===========Showing road data============\n",
      "morning top jammed place :\n"
     ]
    },
    {
     "data": {
      "text/html": [
       "<table border=\"1\" class=\"dataframe\">\n",
       "  <thead>\n",
       "    <tr style=\"text-align: right;\">\n",
       "      <th></th>\n",
       "      <th>Road Name</th>\n",
       "      <th>Starting Place</th>\n",
       "      <th>Arriving Place</th>\n",
       "    </tr>\n",
       "  </thead>\n",
       "  <tbody>\n",
       "    <tr>\n",
       "      <th>1</th>\n",
       "      <td>호남고속도로지선</td>\n",
       "      <td>유성IC</td>\n",
       "      <td>유성IC</td>\n",
       "    </tr>\n",
       "    <tr>\n",
       "      <th>2</th>\n",
       "      <td>대전로</td>\n",
       "      <td>중앙시장삼거리</td>\n",
       "      <td>대전역네거리</td>\n",
       "    </tr>\n",
       "    <tr>\n",
       "      <th>3</th>\n",
       "      <td>우암로</td>\n",
       "      <td>삼성네거리</td>\n",
       "      <td>한밭중네거리</td>\n",
       "    </tr>\n",
       "    <tr>\n",
       "      <th>4</th>\n",
       "      <td>송림로</td>\n",
       "      <td>하기2교</td>\n",
       "      <td>반석네거리</td>\n",
       "    </tr>\n",
       "    <tr>\n",
       "      <th>5</th>\n",
       "      <td>반석서로</td>\n",
       "      <td>반석동672</td>\n",
       "      <td>외삼네거리</td>\n",
       "    </tr>\n",
       "  </tbody>\n",
       "</table>"
      ],
      "text/plain": [
       "<IPython.core.display.HTML object>"
      ]
     },
     "metadata": {},
     "output_type": "display_data"
    },
    {
     "name": "stdout",
     "output_type": "stream",
     "text": [
      "evening top jammed place :\n"
     ]
    },
    {
     "data": {
      "text/html": [
       "<table border=\"1\" class=\"dataframe\">\n",
       "  <thead>\n",
       "    <tr style=\"text-align: right;\">\n",
       "      <th></th>\n",
       "      <th>Road Name</th>\n",
       "      <th>Starting Place</th>\n",
       "      <th>Arriving Place</th>\n",
       "    </tr>\n",
       "  </thead>\n",
       "  <tbody>\n",
       "    <tr>\n",
       "      <th>1</th>\n",
       "      <td>호남고속도로지선</td>\n",
       "      <td>유성IC</td>\n",
       "      <td>유성IC</td>\n",
       "    </tr>\n",
       "    <tr>\n",
       "      <th>2</th>\n",
       "      <td>충무로</td>\n",
       "      <td>충무네거리</td>\n",
       "      <td>대전은혜그리스도의교회</td>\n",
       "    </tr>\n",
       "    <tr>\n",
       "      <th>3</th>\n",
       "      <td>경부고속도로</td>\n",
       "      <td>대전IC지하차도</td>\n",
       "      <td>대전IC</td>\n",
       "    </tr>\n",
       "    <tr>\n",
       "      <th>4</th>\n",
       "      <td>대전로</td>\n",
       "      <td>대전역네거리</td>\n",
       "      <td>중앙시장삼거리</td>\n",
       "    </tr>\n",
       "    <tr>\n",
       "      <th>5</th>\n",
       "      <td>계백로</td>\n",
       "      <td>버드내네거리</td>\n",
       "      <td>유등교</td>\n",
       "    </tr>\n",
       "  </tbody>\n",
       "</table>"
      ],
      "text/plain": [
       "<IPython.core.display.HTML object>"
      ]
     },
     "metadata": {},
     "output_type": "display_data"
    }
   ],
   "source": [
    "result.get_top_jam('road',5)"
   ]
  },
  {
   "cell_type": "code",
   "execution_count": 5,
   "metadata": {},
   "outputs": [
    {
     "name": "stdout",
     "output_type": "stream",
     "text": [
      "===========Showing start data===========\n",
      "morning top jammed place :\n"
     ]
    },
    {
     "data": {
      "text/html": [
       "<table border=\"1\" class=\"dataframe\">\n",
       "  <thead>\n",
       "    <tr style=\"text-align: right;\">\n",
       "      <th></th>\n",
       "      <th>Place Name</th>\n",
       "      <th>Latitude</th>\n",
       "      <th>Longitude</th>\n",
       "    </tr>\n",
       "  </thead>\n",
       "  <tbody>\n",
       "    <tr>\n",
       "      <th>1</th>\n",
       "      <td>한남오거리</td>\n",
       "      <td>36.348329</td>\n",
       "      <td>127.415927</td>\n",
       "    </tr>\n",
       "    <tr>\n",
       "      <th>2</th>\n",
       "      <td>용문역네거리</td>\n",
       "      <td>36.338299</td>\n",
       "      <td>127.393267</td>\n",
       "    </tr>\n",
       "    <tr>\n",
       "      <th>3</th>\n",
       "      <td>큰마을네거리</td>\n",
       "      <td>36.348661</td>\n",
       "      <td>127.376631</td>\n",
       "    </tr>\n",
       "    <tr>\n",
       "      <th>4</th>\n",
       "      <td>대전역네거리</td>\n",
       "      <td>36.331187</td>\n",
       "      <td>127.432631</td>\n",
       "    </tr>\n",
       "    <tr>\n",
       "      <th>5</th>\n",
       "      <td>갈마네거리</td>\n",
       "      <td>36.353086</td>\n",
       "      <td>127.368872</td>\n",
       "    </tr>\n",
       "  </tbody>\n",
       "</table>"
      ],
      "text/plain": [
       "<IPython.core.display.HTML object>"
      ]
     },
     "metadata": {},
     "output_type": "display_data"
    },
    {
     "name": "stdout",
     "output_type": "stream",
     "text": [
      "evening top jammed place :\n"
     ]
    },
    {
     "data": {
      "text/html": [
       "<table border=\"1\" class=\"dataframe\">\n",
       "  <thead>\n",
       "    <tr style=\"text-align: right;\">\n",
       "      <th></th>\n",
       "      <th>Place Name</th>\n",
       "      <th>Latitude</th>\n",
       "      <th>Longitude</th>\n",
       "    </tr>\n",
       "  </thead>\n",
       "  <tbody>\n",
       "    <tr>\n",
       "      <th>1</th>\n",
       "      <td>한남오거리</td>\n",
       "      <td>36.348329</td>\n",
       "      <td>127.415927</td>\n",
       "    </tr>\n",
       "    <tr>\n",
       "      <th>2</th>\n",
       "      <td>용문역네거리</td>\n",
       "      <td>36.338299</td>\n",
       "      <td>127.393267</td>\n",
       "    </tr>\n",
       "    <tr>\n",
       "      <th>3</th>\n",
       "      <td>큰마을네거리</td>\n",
       "      <td>36.348661</td>\n",
       "      <td>127.376631</td>\n",
       "    </tr>\n",
       "    <tr>\n",
       "      <th>4</th>\n",
       "      <td>대전역네거리</td>\n",
       "      <td>36.331187</td>\n",
       "      <td>127.432631</td>\n",
       "    </tr>\n",
       "    <tr>\n",
       "      <th>5</th>\n",
       "      <td>대전IC</td>\n",
       "      <td>36.362139</td>\n",
       "      <td>127.450054</td>\n",
       "    </tr>\n",
       "  </tbody>\n",
       "</table>"
      ],
      "text/plain": [
       "<IPython.core.display.HTML object>"
      ]
     },
     "metadata": {},
     "output_type": "display_data"
    }
   ],
   "source": [
    "result.get_top_jam('start',5)"
   ]
  },
  {
   "cell_type": "code",
   "execution_count": 6,
   "metadata": {},
   "outputs": [
    {
     "name": "stdout",
     "output_type": "stream",
     "text": [
      "============Showing end data============\n",
      "morning top jammed place :\n"
     ]
    },
    {
     "data": {
      "text/html": [
       "<table border=\"1\" class=\"dataframe\">\n",
       "  <thead>\n",
       "    <tr style=\"text-align: right;\">\n",
       "      <th></th>\n",
       "      <th>Place Name</th>\n",
       "      <th>Latitude</th>\n",
       "      <th>Longitude</th>\n",
       "    </tr>\n",
       "  </thead>\n",
       "  <tbody>\n",
       "    <tr>\n",
       "      <th>1</th>\n",
       "      <td>성모오거리</td>\n",
       "      <td>36.323995</td>\n",
       "      <td>127.420193</td>\n",
       "    </tr>\n",
       "    <tr>\n",
       "      <th>2</th>\n",
       "      <td>서대전농협북부지점</td>\n",
       "      <td>36.322124</td>\n",
       "      <td>127.396135</td>\n",
       "    </tr>\n",
       "    <tr>\n",
       "      <th>3</th>\n",
       "      <td>버드내네거리</td>\n",
       "      <td>36.316660</td>\n",
       "      <td>127.390666</td>\n",
       "    </tr>\n",
       "    <tr>\n",
       "      <th>4</th>\n",
       "      <td>중구보건지소네거리</td>\n",
       "      <td>36.324778</td>\n",
       "      <td>127.422334</td>\n",
       "    </tr>\n",
       "    <tr>\n",
       "      <th>5</th>\n",
       "      <td>유성IC</td>\n",
       "      <td>36.364253</td>\n",
       "      <td>127.329919</td>\n",
       "    </tr>\n",
       "  </tbody>\n",
       "</table>"
      ],
      "text/plain": [
       "<IPython.core.display.HTML object>"
      ]
     },
     "metadata": {},
     "output_type": "display_data"
    },
    {
     "name": "stdout",
     "output_type": "stream",
     "text": [
      "evening top jammed place :\n"
     ]
    },
    {
     "data": {
      "text/html": [
       "<table border=\"1\" class=\"dataframe\">\n",
       "  <thead>\n",
       "    <tr style=\"text-align: right;\">\n",
       "      <th></th>\n",
       "      <th>Place Name</th>\n",
       "      <th>Latitude</th>\n",
       "      <th>Longitude</th>\n",
       "    </tr>\n",
       "  </thead>\n",
       "  <tbody>\n",
       "    <tr>\n",
       "      <th>1</th>\n",
       "      <td>성모오거리</td>\n",
       "      <td>36.323995</td>\n",
       "      <td>127.420193</td>\n",
       "    </tr>\n",
       "    <tr>\n",
       "      <th>2</th>\n",
       "      <td>서대전농협북부지점</td>\n",
       "      <td>36.322124</td>\n",
       "      <td>127.396135</td>\n",
       "    </tr>\n",
       "    <tr>\n",
       "      <th>3</th>\n",
       "      <td>한남오거리</td>\n",
       "      <td>36.348329</td>\n",
       "      <td>127.415927</td>\n",
       "    </tr>\n",
       "    <tr>\n",
       "      <th>4</th>\n",
       "      <td>버드내네거리</td>\n",
       "      <td>36.316660</td>\n",
       "      <td>127.390666</td>\n",
       "    </tr>\n",
       "    <tr>\n",
       "      <th>5</th>\n",
       "      <td>북대전IC</td>\n",
       "      <td>36.413342</td>\n",
       "      <td>127.380627</td>\n",
       "    </tr>\n",
       "  </tbody>\n",
       "</table>"
      ],
      "text/plain": [
       "<IPython.core.display.HTML object>"
      ]
     },
     "metadata": {},
     "output_type": "display_data"
    }
   ],
   "source": [
    "result.get_top_jam('end',5)"
   ]
  },
  {
   "cell_type": "markdown",
   "metadata": {},
   "source": [
    "### Showing maps"
   ]
  },
  {
   "cell_type": "markdown",
   "metadata": {},
   "source": [
    "<p style=\"font-size:13pt;\">\n",
    "    A map will be more better to see the bigger picture!<br>\n",
    "    Before showing the map this is how to read the map.\n",
    "</p>"
   ]
  },
  {
   "cell_type": "markdown",
   "metadata": {},
   "source": [
    "<img src='../img_folder/checkbox_explained.PNG'>"
   ]
  },
  {
   "cell_type": "markdown",
   "metadata": {},
   "source": [
    "<p style=\"font-size:13pt;\">\n",
    "    <b>Also, you can click on the link or the node to show more explaination<b>\n",
    "</p>"
   ]
  },
  {
   "cell_type": "code",
   "execution_count": 8,
   "metadata": {},
   "outputs": [
    {
     "name": "stdout",
     "output_type": "stream",
     "text": [
      "--------morning traffic jam map---------\n"
     ]
    },
    {
     "data": {
      "text/html": [
       "\n",
       "        <iframe\n",
       "            width=\"800\"\n",
       "            height=\"650\"\n",
       "            src=\"../html_files/morning.html\"\n",
       "            frameborder=\"0\"\n",
       "            allowfullscreen\n",
       "        ></iframe>\n",
       "        "
      ],
      "text/plain": [
       "<IPython.lib.display.IFrame at 0x19872a949a0>"
      ]
     },
     "metadata": {},
     "output_type": "display_data"
    }
   ],
   "source": [
    "result.show_map('morning','../html_files/')"
   ]
  },
  {
   "cell_type": "code",
   "execution_count": 9,
   "metadata": {
    "scrolled": false
   },
   "outputs": [
    {
     "name": "stdout",
     "output_type": "stream",
     "text": [
      "--------evening traffic jam map---------\n"
     ]
    },
    {
     "data": {
      "text/html": [
       "\n",
       "        <iframe\n",
       "            width=\"800\"\n",
       "            height=\"650\"\n",
       "            src=\"../html_files/evening.html\"\n",
       "            frameborder=\"0\"\n",
       "            allowfullscreen\n",
       "        ></iframe>\n",
       "        "
      ],
      "text/plain": [
       "<IPython.lib.display.IFrame at 0x19872a94220>"
      ]
     },
     "metadata": {},
     "output_type": "display_data"
    }
   ],
   "source": [
    "result.show_map('evening','../html_files/')"
   ]
  },
  {
   "cell_type": "markdown",
   "metadata": {},
   "source": [
    "## My thoughts"
   ]
  },
  {
   "cell_type": "markdown",
   "metadata": {},
   "source": [
    "<p style=\"font-size:13pt;\">\n",
    "    It was fun finding out which road have a bottleneck in traffic.<br>\n",
    "    I'm not an expert in these problems, but by showing these data maybe I can get the attention of some experts in these domain to get an answer to the traffic problems.<br>\n",
    "</p>"
   ]
  }
 ],
 "metadata": {
  "kernelspec": {
   "display_name": "Project",
   "language": "python",
   "name": "project"
  },
  "language_info": {
   "codemirror_mode": {
    "name": "ipython",
    "version": 3
   },
   "file_extension": ".py",
   "mimetype": "text/x-python",
   "name": "python",
   "nbconvert_exporter": "python",
   "pygments_lexer": "ipython3",
   "version": "3.8.2"
  }
 },
 "nbformat": 4,
 "nbformat_minor": 4
}
