{
 "cells": [
  {
   "cell_type": "code",
   "execution_count": null,
   "metadata": {},
   "outputs": [],
   "source": [
    "from urllib import request,parse\n",
    "import xml.etree.ElementTree as et\n",
    "from datetime import datetime\n",
    "import os\n",
    "import time\n",
    "\n",
    "class Call_API():\n",
    "    def __init__(self,url:str=None,save_dir:str='',params:dict={}):\n",
    "        '''\n",
    "        Call_API is a class which uses urllib module to call an API specified by the url variable.\n",
    "        And Call_API uses keys variable to send parameters when using GET method.\n",
    "        The save_dir variable is the folder which you want to save the xml file (default is current folder)\n",
    "        \n",
    "        _____________________\n",
    "        \n",
    "        url : The API base url\n",
    "        save_dir : The path which you want to save your xml file\n",
    "        keys : dictionary of parameters when you want to send parameters which the API need\n",
    "        _____________________\n",
    "        '''       \n",
    "        if url is None:\n",
    "            raise ValueError('url variable is None. You need the API url.')\n",
    "        \n",
    "        self.url=url\n",
    "        self.save_dir=save_dir\n",
    "        if not os.path.exists(self.save_dir):\n",
    "            os.mkdir(self.save_dir)\n",
    "        self.params=params\n",
    "        \n",
    "    def save_API_values(self,file_name:str=None,encoding:str='utf-8'):\n",
    "        '''\n",
    "        save_API_values calls the API and saves the file in the <save_dir> path named <file_name>\n",
    "        _____________________\n",
    "        \n",
    "        file_name : the xml file name 'extension must be .xml'\n",
    "        encoding : the encoding of the file\n",
    "        _____________________\n",
    "        '''\n",
    "        if file_name is None:\n",
    "            raise ValueError('file_name variable is None. You need the API url.')\n",
    "        if file_name[-4:]!='.xml':\n",
    "            raise ValueError('file extension should be \".xml\".')\n",
    "            \n",
    "        params=parse.urlencode(self.params)\n",
    "        xml_data=request.urlopen(self.url+'?'+params).read().decode()\n",
    "        \n",
    "        if not self.save_dir[-1]=='/':\n",
    "                file_path=self.save_dir+'/'+file_name\n",
    "        else:\n",
    "            file_path=self.save_dir+file_name\n",
    "        \n",
    "        with open(file_path,'w',encoding='utf-8') as f:\n",
    "            f.write(xml_data)\n",
    "        \n",
    "        print('wrote xml data to',file_name,'in',self.save_dir)"
   ]
  },
  {
   "cell_type": "code",
   "execution_count": null,
   "metadata": {},
   "outputs": [],
   "source": [
    "test=Call_API(url='http://openapi.its.go.kr/api/NTrafficInfo',\n",
    "             save_dir='../xml_files',\n",
    "             params={'key':'API_KEY',\n",
    "             'ReqType':'2',\n",
    "              'MinX':'127.228626',\n",
    "              'MinY':'36.166096',\n",
    "              'MaxX':'127.569950',\n",
    "              'MaxY':'36.510436',\n",
    "            }\n",
    "             )"
   ]
  },
  {
   "cell_type": "code",
   "execution_count": null,
   "metadata": {},
   "outputs": [],
   "source": [
    "current_time=datetime.now()\n",
    "save_file=current_time.strftime('%a_%H시_%M분.xml')\n",
    "\n",
    "test.save_API_values(save_file)"
   ]
  }
 ],
 "metadata": {
  "kernelspec": {
   "display_name": "Project",
   "language": "python",
   "name": "project"
  },
  "language_info": {
   "codemirror_mode": {
    "name": "ipython",
    "version": 3
   },
   "file_extension": ".py",
   "mimetype": "text/x-python",
   "name": "python",
   "nbconvert_exporter": "python",
   "pygments_lexer": "ipython3",
   "version": "3.8.2"
  }
 },
 "nbformat": 4,
 "nbformat_minor": 4
}
